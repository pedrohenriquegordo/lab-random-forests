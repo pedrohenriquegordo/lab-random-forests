{
 "cells": [
  {
   "cell_type": "code",
   "execution_count": 1,
   "id": "b646cbd2",
   "metadata": {},
   "outputs": [],
   "source": [
    "import pandas as pd\n",
    "from imblearn.over_sampling import SMOTE\n",
    "from sklearn.ensemble import RandomForestClassifier\n",
    "from sklearn.model_selection import train_test_split\n",
    "from sklearn.metrics import classification_report\n",
    "from sklearn.preprocessing import LabelEncoder"
   ]
  },
  {
   "cell_type": "code",
   "execution_count": 2,
   "id": "60f0273b",
   "metadata": {},
   "outputs": [],
   "source": [
    "cat=pd.read_csv('/Users/pedro/Desktop/Ironhack/Unit 07/Labs/lab-random-forests/files_for_lab/categorical.csv')\n",
    "num=pd.read_csv('/Users/pedro/Desktop/Ironhack/Unit 07/Labs/lab-random-forests/files_for_lab/numerical.csv')\n",
    "target=pd.read_csv('/Users/pedro/Desktop/Ironhack/Unit 07/Labs/lab-random-forests/files_for_lab/target.csv')"
   ]
  },
  {
   "cell_type": "markdown",
   "id": "af638c50",
   "metadata": {},
   "source": [
    "## Enconding cat variables"
   ]
  },
  {
   "cell_type": "code",
   "execution_count": 3,
   "id": "c9b2ea28",
   "metadata": {},
   "outputs": [],
   "source": [
    "le=LabelEncoder()\n",
    "for column in cat:\n",
    "    cat[column]=le.fit_transform(cat[column])"
   ]
  },
  {
   "cell_type": "markdown",
   "id": "6475e85d",
   "metadata": {},
   "source": [
    "## Split the data"
   ]
  },
  {
   "cell_type": "code",
   "execution_count": 6,
   "id": "66a4baa5",
   "metadata": {},
   "outputs": [],
   "source": [
    "X = cat\n",
    "y = target['TARGET_B']\n",
    "X_train, X_test, y_train, y_test = train_test_split(X, y, test_size=0.2, random_state=42)"
   ]
  },
  {
   "cell_type": "markdown",
   "id": "3dba7dff",
   "metadata": {},
   "source": [
    "## Upscale the training data using SMOTE"
   ]
  },
  {
   "cell_type": "code",
   "execution_count": 7,
   "id": "40a3b130",
   "metadata": {},
   "outputs": [],
   "source": [
    "smote=SMOTE()\n",
    "X_train_resampled,y_train_resampled=smote.fit_resample(X_train,y_train)"
   ]
  },
  {
   "cell_type": "markdown",
   "id": "f37b7cf5",
   "metadata": {},
   "source": [
    "## Random Forest classifier on the resampled data:"
   ]
  },
  {
   "cell_type": "code",
   "execution_count": 8,
   "id": "5f06ef75",
   "metadata": {},
   "outputs": [
    {
     "data": {
      "text/plain": [
       "RandomForestClassifier()"
      ]
     },
     "execution_count": 8,
     "metadata": {},
     "output_type": "execute_result"
    }
   ],
   "source": [
    "rfc=RandomForestClassifier()\n",
    "rfc.fit(X_train_resampled,y_train_resampled)"
   ]
  },
  {
   "cell_type": "markdown",
   "id": "4449cb9b",
   "metadata": {},
   "source": [
    "## Evaluate the model"
   ]
  },
  {
   "cell_type": "code",
   "execution_count": 9,
   "id": "6072cd9d",
   "metadata": {},
   "outputs": [
    {
     "name": "stdout",
     "output_type": "stream",
     "text": [
      "              precision    recall  f1-score   support\n",
      "\n",
      "           0       0.95      0.94      0.94     18105\n",
      "           1       0.06      0.07      0.07       978\n",
      "\n",
      "    accuracy                           0.89     19083\n",
      "   macro avg       0.50      0.51      0.51     19083\n",
      "weighted avg       0.90      0.89      0.90     19083\n",
      "\n"
     ]
    }
   ],
   "source": [
    "y_pred=rfc.predict(X_test)\n",
    "print(classification_report(y_test, y_pred))"
   ]
  }
 ],
 "metadata": {
  "kernelspec": {
   "display_name": "Python 3 (ipykernel)",
   "language": "python",
   "name": "python3"
  },
  "language_info": {
   "codemirror_mode": {
    "name": "ipython",
    "version": 3
   },
   "file_extension": ".py",
   "mimetype": "text/x-python",
   "name": "python",
   "nbconvert_exporter": "python",
   "pygments_lexer": "ipython3",
   "version": "3.9.15"
  }
 },
 "nbformat": 4,
 "nbformat_minor": 5
}
